{
  "nbformat": 4,
  "nbformat_minor": 0,
  "metadata": {
    "colab": {
      "name": "Build a Grammar Correction Python App with Gramformer and Gradio.ipynb",
      "provenance": [],
      "collapsed_sections": [
        "ygPZFfaw4mOb"
      ],
      "authorship_tag": "ABX9TyM41+SvVMETsIMkbwjqVQb1",
      "include_colab_link": true
    },
    "kernelspec": {
      "name": "python3",
      "display_name": "Python 3"
    },
    "language_info": {
      "name": "python"
    }
  },
  "cells": [
    {
      "cell_type": "markdown",
      "metadata": {
        "id": "view-in-github",
        "colab_type": "text"
      },
      "source": [
        "<a href=\"https://colab.research.google.com/github/arifpurnama/GrammarCorrection/blob/main/Build_a_Grammar_Correction_Python_App_with_Gramformer_and_Gradio.ipynb\" target=\"_parent\"><img src=\"https://colab.research.google.com/assets/colab-badge.svg\" alt=\"Open In Colab\"/></a>"
      ]
    },
    {
      "cell_type": "markdown",
      "metadata": {
        "id": "-TGnrbF4v6lJ"
      },
      "source": [
        "Build a Grammar Correction Python App with Gramformer and Gradio\n",
        "https://www.youtube.com/watch?v=4htP-hmIBvc&ab_channel=NicholasRenotte\n",
        "\n",
        "https://github.com/PrithivirajDamodaran/Gramformer"
      ]
    },
    {
      "cell_type": "code",
      "metadata": {
        "colab": {
          "base_uri": "https://localhost:8080/"
        },
        "id": "UXyDUK87v3m1",
        "outputId": "c4f170c5-1d5f-4e46-da5f-1710c436d375"
      },
      "source": [
        "#pytorch\n",
        "!pip3 install torch==1.9.0+cu102 torchvision==0.10.0+cu102 torchaudio===0.9.0 -f https://download.pytorch.org/whl/torch_stable.html"
      ],
      "execution_count": null,
      "outputs": [
        {
          "output_type": "stream",
          "name": "stdout",
          "text": [
            "Looking in links: https://download.pytorch.org/whl/torch_stable.html\n",
            "Requirement already satisfied: torch==1.9.0+cu102 in /usr/local/lib/python3.7/dist-packages (1.9.0+cu102)\n",
            "Requirement already satisfied: torchvision==0.10.0+cu102 in /usr/local/lib/python3.7/dist-packages (0.10.0+cu102)\n",
            "Requirement already satisfied: torchaudio===0.9.0 in /usr/local/lib/python3.7/dist-packages (0.9.0)\n",
            "Requirement already satisfied: typing-extensions in /usr/local/lib/python3.7/dist-packages (from torch==1.9.0+cu102) (3.7.4.3)\n",
            "Requirement already satisfied: pillow>=5.3.0 in /usr/local/lib/python3.7/dist-packages (from torchvision==0.10.0+cu102) (7.1.2)\n",
            "Requirement already satisfied: numpy in /usr/local/lib/python3.7/dist-packages (from torchvision==0.10.0+cu102) (1.19.5)\n"
          ]
        }
      ]
    },
    {
      "cell_type": "code",
      "metadata": {
        "colab": {
          "base_uri": "https://localhost:8080/"
        },
        "id": "HnuSwxoMwWyI",
        "outputId": "46bbef23-7c45-4d7d-fa0f-d838fcd6d3e5"
      },
      "source": [
        "!pip3 install pip==20.1.1 "
      ],
      "execution_count": null,
      "outputs": [
        {
          "output_type": "stream",
          "name": "stdout",
          "text": [
            "Requirement already satisfied: pip==20.1.1 in /usr/local/lib/python3.7/dist-packages (20.1.1)\n"
          ]
        }
      ]
    },
    {
      "cell_type": "code",
      "metadata": {
        "colab": {
          "base_uri": "https://localhost:8080/"
        },
        "id": "b_CqHygkwiDh",
        "outputId": "b43949c2-e0ae-4aec-efcf-7bffcfd1ac05"
      },
      "source": [
        "!pip3 install -U git+https://github.com/PrithivirajDamodaran/Gramformer.git"
      ],
      "execution_count": null,
      "outputs": [
        {
          "output_type": "stream",
          "name": "stdout",
          "text": [
            "Collecting git+https://github.com/PrithivirajDamodaran/Gramformer.git\n",
            "  Cloning https://github.com/PrithivirajDamodaran/Gramformer.git to /tmp/pip-req-build-6ul9qjtb\n",
            "  Running command git clone -q https://github.com/PrithivirajDamodaran/Gramformer.git /tmp/pip-req-build-6ul9qjtb\n",
            "Requirement already satisfied, skipping upgrade: transformers in /usr/local/lib/python3.7/dist-packages (from gramformer==1.0) (4.10.0)\n",
            "Requirement already satisfied, skipping upgrade: sentencepiece==0.1.95 in /usr/local/lib/python3.7/dist-packages (from gramformer==1.0) (0.1.95)\n",
            "Requirement already satisfied, skipping upgrade: python-Levenshtein==0.12.2 in /usr/local/lib/python3.7/dist-packages (from gramformer==1.0) (0.12.2)\n",
            "Requirement already satisfied, skipping upgrade: fuzzywuzzy==0.18.0 in /usr/local/lib/python3.7/dist-packages (from gramformer==1.0) (0.18.0)\n",
            "Requirement already satisfied, skipping upgrade: tokenizers==0.10.2 in /usr/local/lib/python3.7/dist-packages (from gramformer==1.0) (0.10.2)\n",
            "Requirement already satisfied, skipping upgrade: fsspec==2021.5.0 in /usr/local/lib/python3.7/dist-packages (from gramformer==1.0) (2021.5.0)\n",
            "Requirement already satisfied, skipping upgrade: lm-scorer==0.4.2 in /usr/local/lib/python3.7/dist-packages (from gramformer==1.0) (0.4.2)\n",
            "Requirement already satisfied, skipping upgrade: errant in /usr/local/lib/python3.7/dist-packages (from gramformer==1.0) (2.3.0)\n",
            "Requirement already satisfied, skipping upgrade: sacremoses in /usr/local/lib/python3.7/dist-packages (from transformers->gramformer==1.0) (0.0.45)\n",
            "Requirement already satisfied, skipping upgrade: requests in /usr/local/lib/python3.7/dist-packages (from transformers->gramformer==1.0) (2.23.0)\n",
            "Requirement already satisfied, skipping upgrade: tqdm>=4.27 in /usr/local/lib/python3.7/dist-packages (from transformers->gramformer==1.0) (4.62.0)\n",
            "Requirement already satisfied, skipping upgrade: huggingface-hub>=0.0.12 in /usr/local/lib/python3.7/dist-packages (from transformers->gramformer==1.0) (0.0.16)\n",
            "Requirement already satisfied, skipping upgrade: regex!=2019.12.17 in /usr/local/lib/python3.7/dist-packages (from transformers->gramformer==1.0) (2019.12.20)\n",
            "Requirement already satisfied, skipping upgrade: numpy>=1.17 in /usr/local/lib/python3.7/dist-packages (from transformers->gramformer==1.0) (1.19.5)\n",
            "Requirement already satisfied, skipping upgrade: pyyaml>=5.1 in /usr/local/lib/python3.7/dist-packages (from transformers->gramformer==1.0) (5.4.1)\n",
            "Requirement already satisfied, skipping upgrade: packaging in /usr/local/lib/python3.7/dist-packages (from transformers->gramformer==1.0) (21.0)\n",
            "Requirement already satisfied, skipping upgrade: importlib-metadata; python_version < \"3.8\" in /usr/local/lib/python3.7/dist-packages (from transformers->gramformer==1.0) (4.6.4)\n",
            "Requirement already satisfied, skipping upgrade: filelock in /usr/local/lib/python3.7/dist-packages (from transformers->gramformer==1.0) (3.0.12)\n",
            "Requirement already satisfied, skipping upgrade: setuptools in /usr/local/lib/python3.7/dist-packages (from python-Levenshtein==0.12.2->gramformer==1.0) (57.4.0)\n",
            "Requirement already satisfied, skipping upgrade: pip>=20.0.0 in /usr/local/lib/python3.7/dist-packages (from lm-scorer==0.4.2->gramformer==1.0) (20.1.1)\n",
            "Requirement already satisfied, skipping upgrade: torch<2.0.0,>=1.4.0 in /usr/local/lib/python3.7/dist-packages (from lm-scorer==0.4.2->gramformer==1.0) (1.9.0+cu102)\n",
            "Requirement already satisfied, skipping upgrade: spacy<3,>=2.2.0 in /usr/local/lib/python3.7/dist-packages (from errant->gramformer==1.0) (2.2.4)\n",
            "Requirement already satisfied, skipping upgrade: click in /usr/local/lib/python3.7/dist-packages (from sacremoses->transformers->gramformer==1.0) (7.1.2)\n",
            "Requirement already satisfied, skipping upgrade: joblib in /usr/local/lib/python3.7/dist-packages (from sacremoses->transformers->gramformer==1.0) (1.0.1)\n",
            "Requirement already satisfied, skipping upgrade: six in /usr/local/lib/python3.7/dist-packages (from sacremoses->transformers->gramformer==1.0) (1.15.0)\n",
            "Requirement already satisfied, skipping upgrade: idna<3,>=2.5 in /usr/local/lib/python3.7/dist-packages (from requests->transformers->gramformer==1.0) (2.10)\n",
            "Requirement already satisfied, skipping upgrade: urllib3!=1.25.0,!=1.25.1,<1.26,>=1.21.1 in /usr/local/lib/python3.7/dist-packages (from requests->transformers->gramformer==1.0) (1.24.3)\n",
            "Requirement already satisfied, skipping upgrade: certifi>=2017.4.17 in /usr/local/lib/python3.7/dist-packages (from requests->transformers->gramformer==1.0) (2021.5.30)\n",
            "Requirement already satisfied, skipping upgrade: chardet<4,>=3.0.2 in /usr/local/lib/python3.7/dist-packages (from requests->transformers->gramformer==1.0) (3.0.4)\n",
            "Requirement already satisfied, skipping upgrade: typing-extensions in /usr/local/lib/python3.7/dist-packages (from huggingface-hub>=0.0.12->transformers->gramformer==1.0) (3.7.4.3)\n",
            "Requirement already satisfied, skipping upgrade: pyparsing>=2.0.2 in /usr/local/lib/python3.7/dist-packages (from packaging->transformers->gramformer==1.0) (2.4.7)\n",
            "Requirement already satisfied, skipping upgrade: zipp>=0.5 in /usr/local/lib/python3.7/dist-packages (from importlib-metadata; python_version < \"3.8\"->transformers->gramformer==1.0) (3.5.0)\n",
            "Requirement already satisfied, skipping upgrade: thinc==7.4.0 in /usr/local/lib/python3.7/dist-packages (from spacy<3,>=2.2.0->errant->gramformer==1.0) (7.4.0)\n",
            "Requirement already satisfied, skipping upgrade: wasabi<1.1.0,>=0.4.0 in /usr/local/lib/python3.7/dist-packages (from spacy<3,>=2.2.0->errant->gramformer==1.0) (0.8.2)\n",
            "Requirement already satisfied, skipping upgrade: blis<0.5.0,>=0.4.0 in /usr/local/lib/python3.7/dist-packages (from spacy<3,>=2.2.0->errant->gramformer==1.0) (0.4.1)\n",
            "Requirement already satisfied, skipping upgrade: preshed<3.1.0,>=3.0.2 in /usr/local/lib/python3.7/dist-packages (from spacy<3,>=2.2.0->errant->gramformer==1.0) (3.0.5)\n",
            "Requirement already satisfied, skipping upgrade: cymem<2.1.0,>=2.0.2 in /usr/local/lib/python3.7/dist-packages (from spacy<3,>=2.2.0->errant->gramformer==1.0) (2.0.5)\n",
            "Requirement already satisfied, skipping upgrade: catalogue<1.1.0,>=0.0.7 in /usr/local/lib/python3.7/dist-packages (from spacy<3,>=2.2.0->errant->gramformer==1.0) (1.0.0)\n",
            "Requirement already satisfied, skipping upgrade: plac<1.2.0,>=0.9.6 in /usr/local/lib/python3.7/dist-packages (from spacy<3,>=2.2.0->errant->gramformer==1.0) (1.1.3)\n",
            "Requirement already satisfied, skipping upgrade: srsly<1.1.0,>=1.0.2 in /usr/local/lib/python3.7/dist-packages (from spacy<3,>=2.2.0->errant->gramformer==1.0) (1.0.5)\n",
            "Requirement already satisfied, skipping upgrade: murmurhash<1.1.0,>=0.28.0 in /usr/local/lib/python3.7/dist-packages (from spacy<3,>=2.2.0->errant->gramformer==1.0) (1.0.5)\n",
            "Building wheels for collected packages: gramformer\n",
            "  Building wheel for gramformer (setup.py) ... \u001b[?25l\u001b[?25hdone\n",
            "  Created wheel for gramformer: filename=gramformer-1.0-py3-none-any.whl size=4501 sha256=e767e899f1c1447c6e9a03922c5d1ef8ef82f1e6286ec4d57c90d1977ed2b7c8\n",
            "  Stored in directory: /tmp/pip-ephem-wheel-cache-hw1x6d31/wheels/c1/f6/04/a7ceda8a8c1d494a3523957d61eb6dfe428568b1af0b9d508c\n",
            "Successfully built gramformer\n",
            "Installing collected packages: gramformer\n",
            "  Attempting uninstall: gramformer\n",
            "    Found existing installation: gramformer 1.0\n",
            "    Uninstalling gramformer-1.0:\n",
            "      Successfully uninstalled gramformer-1.0\n",
            "Successfully installed gramformer-1.0\n"
          ]
        }
      ]
    },
    {
      "cell_type": "markdown",
      "metadata": {
        "id": "ygPZFfaw4mOb"
      },
      "source": [
        "##Correcter - Available now"
      ]
    },
    {
      "cell_type": "code",
      "metadata": {
        "colab": {
          "base_uri": "https://localhost:8080/"
        },
        "id": "DUAOw7XywpJq",
        "outputId": "c3c363fb-7fe0-472b-ff96-ad5c56eee2a6"
      },
      "source": [
        "from gramformer import Gramformer\n",
        "import torch\n",
        "\n",
        "def set_seed(seed):\n",
        "  torch.manual_seed(seed)\n",
        "  if torch.cuda.is_available():\n",
        "    torch.cuda.manual_seed_all(seed)\n",
        "\n",
        "set_seed(1212)\n",
        "\n",
        "gf = Gramformer(models =1, use_gpu=False)\n",
        "\n",
        "influent_sentences = [\n",
        "                     \"He are moving here.\",\n",
        "                      \"I am doing fine, How is you?\",\n",
        "                      \"How is they?\",\n",
        "                      \"Matt like fish\",\n",
        "                      \"the collection of letters was original used by the ancient Romans\",\n",
        "                      \"We enjoys horror movies\",\n",
        "                      \"Anna and Mike is going skiing\"\n",
        "]\n",
        "\n",
        "for influent_sentence in influent_sentences:\n",
        "    corrected_sentences = gf.correct(influent_sentence, max_candidates=1)\n",
        "    print(\"[Input] \", influent_sentence)\n",
        "    for corrected_sentence in corrected_sentences:\n",
        "      print(\"[Correction] \",corrected_sentence)\n",
        "    print(\"-\" *100)"
      ],
      "execution_count": null,
      "outputs": [
        {
          "output_type": "stream",
          "name": "stdout",
          "text": [
            "[Gramformer] Grammar error correct/highlight model loaded..\n",
            "[Input]  He are moving here.\n",
            "[Correction]  ('He is moving here.', -31.02849578857422)\n",
            "----------------------------------------------------------------------------------------------------\n",
            "[Input]  I am doing fine, How is you?\n",
            "[Correction]  ('I am doing fine, how are you?', -37.671016693115234)\n",
            "----------------------------------------------------------------------------------------------------\n",
            "[Input]  How is they?\n",
            "[Correction]  ('How are they?', -24.648284912109375)\n",
            "----------------------------------------------------------------------------------------------------\n",
            "[Input]  Matt like fish\n",
            "[Correction]  ('Matt likes fish.', -33.768829345703125)\n",
            "----------------------------------------------------------------------------------------------------\n",
            "[Input]  the collection of letters was original used by the ancient Romans\n",
            "[Correction]  ('the collection of letters was original used by the ancient Romans', -63.627716064453125)\n",
            "----------------------------------------------------------------------------------------------------\n",
            "[Input]  We enjoys horror movies\n",
            "[Correction]  ('We enjoy horror movies.', -31.77159881591797)\n",
            "----------------------------------------------------------------------------------------------------\n",
            "[Input]  Anna and Mike is going skiing\n",
            "[Correction]  ('Anna and Mike are going skiing.', -42.5970458984375)\n",
            "----------------------------------------------------------------------------------------------------\n"
          ]
        }
      ]
    },
    {
      "cell_type": "markdown",
      "metadata": {
        "id": "2PLcY2K62V6R"
      },
      "source": [
        "##Get Edits - Available now"
      ]
    },
    {
      "cell_type": "code",
      "metadata": {
        "colab": {
          "base_uri": "https://localhost:8080/"
        },
        "id": "VLZOovLkyLmQ",
        "outputId": "af63fea5-f95e-4aa9-f67b-3d2980f29d78"
      },
      "source": [
        "from gramformer import Gramformer\n",
        "set_seed(1212)\n",
        "\n",
        "gf=Gramformer(models=1, use_gpu=False)\n",
        "\n",
        "influent_sentences = [\n",
        "    \"He are moving here.\",\n",
        "    \"the collection of letters was original used by the ancient Romans\",\n",
        "    \"We enjoys horror movies\",\n",
        "    \"Anna and Mike is going skiing\",\n",
        "    \"I will eat fish for dinner and drank milk\",\n",
        "    \"what be the reason for everyone leave the comapny\"\n",
        "]\n",
        "\n",
        "for influent_sentence in influent_sentences:\n",
        "  corrected_sentences = gf.correct(influent_sentence, max_candidates=1)\n",
        "  print(\"[Input] \", influent_sentence)\n",
        "  for corrected_sentence in corrected_sentences:\n",
        "    print(\"[Edits] \", gf.get_edits(influent_sentence, corrected_sentence[0]))\n",
        "  print(\"-\"*100)"
      ],
      "execution_count": null,
      "outputs": [
        {
          "output_type": "stream",
          "name": "stdout",
          "text": [
            "[Gramformer] Grammar error correct/highlight model loaded..\n",
            "[Input]  He are moving here.\n",
            "[Edits]  [('VERB:SVA', 'are', 1, 2, 'is', 1, 2)]\n",
            "----------------------------------------------------------------------------------------------------\n",
            "[Input]  the collection of letters was original used by the ancient Romans\n",
            "[Edits]  [('MORPH', 'original', 5, 6, 'originally', 5, 6)]\n",
            "----------------------------------------------------------------------------------------------------\n",
            "[Input]  We enjoys horror movies\n",
            "[Edits]  [('VERB:SVA', 'enjoys', 1, 2, 'enjoy', 1, 2), ('NOUN', 'movies', 3, 4, 'movies.', 3, 4)]\n",
            "----------------------------------------------------------------------------------------------------\n",
            "[Input]  Anna and Mike is going skiing\n",
            "[Edits]  [('VERB:SVA', 'is', 3, 4, 'are', 3, 4), ('OTHER', 'skiing', 5, 6, 'skiing.', 5, 6)]\n",
            "----------------------------------------------------------------------------------------------------\n",
            "[Input]  I will eat fish for dinner and drank milk\n",
            "[Edits]  [('VERB:TENSE', 'will', 1, 2, '', 1, 1), ('MORPH', 'drank', 7, 8, 'drink', 6, 7), ('NOUN', 'milk', 8, 9, 'milk.', 7, 8)]\n",
            "----------------------------------------------------------------------------------------------------\n",
            "[Input]  what be the reason for everyone leave the comapny\n",
            "[Edits]  [('VERB:FORM', 'leave', 6, 7, 'leaving', 6, 7), ('SPELL', 'comapny', 8, 9, 'company?', 8, 9)]\n",
            "----------------------------------------------------------------------------------------------------\n"
          ]
        }
      ]
    },
    {
      "cell_type": "markdown",
      "metadata": {
        "id": "drz2anve4w4i"
      },
      "source": [
        "##Highlighter - Available now"
      ]
    },
    {
      "cell_type": "code",
      "metadata": {
        "colab": {
          "base_uri": "https://localhost:8080/"
        },
        "id": "mf7LM_lM430A",
        "outputId": "faafb024-151c-479d-bb78-c51a07b64432"
      },
      "source": [
        "from gramformer import Gramformer\n",
        "\n",
        "set_seed(1212)\n",
        "\n",
        "gf = Gramformer(models=1, use_gpu=False)\n",
        "\n",
        "influent_sentences = [\n",
        "    \"He are moving here.\",\n",
        "    \"the collection of letters was original used by the ancient Romans\",\n",
        "    \"We enjoys horror movies\",\n",
        "    \"Anna and Mike is going skiing\",\n",
        "    \"I will eat fish for dinner and drank milk\",\n",
        "    \"what be the reason for everyone leave the comapny\"\n",
        "]\n",
        "for influent_sentence in influent_sentences:\n",
        "    corrected_sentences = gf.correct(influent_sentence, max_candidates=1)\n",
        "    print(\"[Input] \", influent_sentence)\n",
        "    for corrected_sentence in corrected_sentences:\n",
        "      print(\"[Edits] \", gf.highlight(influent_sentence, corrected_sentence[0]))\n",
        "    print(\"-\" *100)\n"
      ],
      "execution_count": null,
      "outputs": [
        {
          "output_type": "stream",
          "name": "stdout",
          "text": [
            "[Gramformer] Grammar error correct/highlight model loaded..\n",
            "[Input]  He are moving here.\n",
            "[Edits]  He <c type='VERB:SVA' edit='is'>are</c> moving here.\n",
            "----------------------------------------------------------------------------------------------------\n",
            "[Input]  the collection of letters was original used by the ancient Romans\n",
            "[Edits]  the collection of letters was <c type='MORPH' edit='originally'>original</c> used by the ancient Romans\n",
            "----------------------------------------------------------------------------------------------------\n",
            "[Input]  We enjoys horror movies\n",
            "[Edits]  We <c type='VERB:SVA' edit='enjoy'>enjoys</c> horror <c type='NOUN' edit='movies.'>movies</c>\n",
            "----------------------------------------------------------------------------------------------------\n",
            "[Input]  Anna and Mike is going skiing\n",
            "[Edits]  Anna and Mike <c type='VERB:SVA' edit='are'>is</c> going <c type='OTHER' edit='skiing.'>skiing</c>\n",
            "----------------------------------------------------------------------------------------------------\n",
            "[Input]  I will eat fish for dinner and drank milk\n",
            "[Edits]  I <d type='VERB:TENSE' edit=''>will</d> eat fish for dinner and <c type='MORPH' edit='drink'>drank</c> <c type='NOUN' edit='milk.'>milk</c>\n",
            "----------------------------------------------------------------------------------------------------\n",
            "[Input]  what be the reason for everyone leave the comapny\n",
            "[Edits]  what be the reason for everyone <c type='VERB:FORM' edit='leaving'>leave</c> the <c type='SPELL' edit='company?'>comapny</c>\n",
            "----------------------------------------------------------------------------------------------------\n"
          ]
        }
      ]
    },
    {
      "cell_type": "markdown",
      "metadata": {
        "id": "AaiHAFlU6r3K"
      },
      "source": [
        "##Deploy with Gradio"
      ]
    },
    {
      "cell_type": "code",
      "metadata": {
        "colab": {
          "base_uri": "https://localhost:8080/"
        },
        "id": "1hjWm8mU6xzW",
        "outputId": "c4aba912-20e3-4883-d9b5-b6f55f7bcb6f"
      },
      "source": [
        "!pip install gradio"
      ],
      "execution_count": null,
      "outputs": [
        {
          "output_type": "stream",
          "name": "stdout",
          "text": [
            "Requirement already satisfied: gradio in /usr/local/lib/python3.7/dist-packages (2.3.0)\n",
            "Requirement already satisfied: matplotlib in /usr/local/lib/python3.7/dist-packages (from gradio) (3.2.2)\n",
            "Requirement already satisfied: Flask>=1.1.1 in /usr/local/lib/python3.7/dist-packages (from gradio) (1.1.4)\n",
            "Requirement already satisfied: numpy in /usr/local/lib/python3.7/dist-packages (from gradio) (1.19.5)\n",
            "Requirement already satisfied: paramiko in /usr/local/lib/python3.7/dist-packages (from gradio) (2.7.2)\n",
            "Requirement already satisfied: pycryptodome in /usr/local/lib/python3.7/dist-packages (from gradio) (3.10.1)\n",
            "Requirement already satisfied: ffmpy in /usr/local/lib/python3.7/dist-packages (from gradio) (0.3.0)\n",
            "Requirement already satisfied: markdown2 in /usr/local/lib/python3.7/dist-packages (from gradio) (2.4.1)\n",
            "Requirement already satisfied: pillow in /usr/local/lib/python3.7/dist-packages (from gradio) (7.1.2)\n",
            "Requirement already satisfied: Flask-Cors>=3.0.8 in /usr/local/lib/python3.7/dist-packages (from gradio) (3.0.10)\n",
            "Requirement already satisfied: scipy in /usr/local/lib/python3.7/dist-packages (from gradio) (1.4.1)\n",
            "Requirement already satisfied: pandas in /usr/local/lib/python3.7/dist-packages (from gradio) (1.1.5)\n",
            "Requirement already satisfied: Flask-Login in /usr/local/lib/python3.7/dist-packages (from gradio) (0.5.0)\n",
            "Requirement already satisfied: flask-cachebuster in /usr/local/lib/python3.7/dist-packages (from gradio) (1.0.0)\n",
            "Requirement already satisfied: requests in /usr/local/lib/python3.7/dist-packages (from gradio) (2.23.0)\n",
            "Requirement already satisfied: analytics-python in /usr/local/lib/python3.7/dist-packages (from gradio) (1.4.0)\n",
            "Requirement already satisfied: python-dateutil>=2.1 in /usr/local/lib/python3.7/dist-packages (from matplotlib->gradio) (2.8.2)\n",
            "Requirement already satisfied: pyparsing!=2.0.4,!=2.1.2,!=2.1.6,>=2.0.1 in /usr/local/lib/python3.7/dist-packages (from matplotlib->gradio) (2.4.7)\n",
            "Requirement already satisfied: kiwisolver>=1.0.1 in /usr/local/lib/python3.7/dist-packages (from matplotlib->gradio) (1.3.1)\n",
            "Requirement already satisfied: cycler>=0.10 in /usr/local/lib/python3.7/dist-packages (from matplotlib->gradio) (0.10.0)\n",
            "Requirement already satisfied: click<8.0,>=5.1 in /usr/local/lib/python3.7/dist-packages (from Flask>=1.1.1->gradio) (7.1.2)\n",
            "Requirement already satisfied: Jinja2<3.0,>=2.10.1 in /usr/local/lib/python3.7/dist-packages (from Flask>=1.1.1->gradio) (2.11.3)\n",
            "Requirement already satisfied: Werkzeug<2.0,>=0.15 in /usr/local/lib/python3.7/dist-packages (from Flask>=1.1.1->gradio) (1.0.1)\n",
            "Requirement already satisfied: itsdangerous<2.0,>=0.24 in /usr/local/lib/python3.7/dist-packages (from Flask>=1.1.1->gradio) (1.1.0)\n",
            "Requirement already satisfied: cryptography>=2.5 in /usr/local/lib/python3.7/dist-packages (from paramiko->gradio) (3.4.8)\n",
            "Requirement already satisfied: pynacl>=1.0.1 in /usr/local/lib/python3.7/dist-packages (from paramiko->gradio) (1.4.0)\n",
            "Requirement already satisfied: bcrypt>=3.1.3 in /usr/local/lib/python3.7/dist-packages (from paramiko->gradio) (3.2.0)\n",
            "Requirement already satisfied: Six in /usr/local/lib/python3.7/dist-packages (from Flask-Cors>=3.0.8->gradio) (1.15.0)\n",
            "Requirement already satisfied: pytz>=2017.2 in /usr/local/lib/python3.7/dist-packages (from pandas->gradio) (2018.9)\n",
            "Requirement already satisfied: chardet<4,>=3.0.2 in /usr/local/lib/python3.7/dist-packages (from requests->gradio) (3.0.4)\n",
            "Requirement already satisfied: idna<3,>=2.5 in /usr/local/lib/python3.7/dist-packages (from requests->gradio) (2.10)\n",
            "Requirement already satisfied: urllib3!=1.25.0,!=1.25.1,<1.26,>=1.21.1 in /usr/local/lib/python3.7/dist-packages (from requests->gradio) (1.24.3)\n",
            "Requirement already satisfied: certifi>=2017.4.17 in /usr/local/lib/python3.7/dist-packages (from requests->gradio) (2021.5.30)\n",
            "Requirement already satisfied: monotonic>=1.5 in /usr/local/lib/python3.7/dist-packages (from analytics-python->gradio) (1.6)\n",
            "Requirement already satisfied: backoff==1.10.0 in /usr/local/lib/python3.7/dist-packages (from analytics-python->gradio) (1.10.0)\n",
            "Requirement already satisfied: MarkupSafe>=0.23 in /usr/local/lib/python3.7/dist-packages (from Jinja2<3.0,>=2.10.1->Flask>=1.1.1->gradio) (2.0.1)\n",
            "Requirement already satisfied: cffi>=1.12 in /usr/local/lib/python3.7/dist-packages (from cryptography>=2.5->paramiko->gradio) (1.14.6)\n",
            "Requirement already satisfied: pycparser in /usr/local/lib/python3.7/dist-packages (from cffi>=1.12->cryptography>=2.5->paramiko->gradio) (2.20)\n"
          ]
        }
      ]
    },
    {
      "cell_type": "code",
      "metadata": {
        "id": "99NRFwlm98xn"
      },
      "source": [
        "import gradio as gr"
      ],
      "execution_count": null,
      "outputs": []
    },
    {
      "cell_type": "code",
      "metadata": {
        "id": "nq0yLoix-Glv"
      },
      "source": [
        "def correct(influent_sentence):\n",
        "  result = gf.correct(influent_sentence) #granformer correst\n",
        "  return result[0]"
      ],
      "execution_count": null,
      "outputs": []
    },
    {
      "cell_type": "code",
      "metadata": {
        "colab": {
          "base_uri": "https://localhost:8080/"
        },
        "id": "GIV4wkIw_HPo",
        "outputId": "11ed83d2-03f2-4695-f5ae-6625d6ae83bd"
      },
      "source": [
        "correct('He are moving here')"
      ],
      "execution_count": null,
      "outputs": [
        {
          "output_type": "execute_result",
          "data": {
            "text/plain": [
              "('He is moving here.', -31.02849578857422)"
            ]
          },
          "metadata": {},
          "execution_count": 10
        }
      ]
    },
    {
      "cell_type": "code",
      "metadata": {
        "id": "fDTWNWpEBSca"
      },
      "source": [
        "app_inputs = gr.inputs.Textbox(lines=2, placeholder='Masukan Kata Disini')"
      ],
      "execution_count": null,
      "outputs": []
    },
    {
      "cell_type": "code",
      "metadata": {
        "id": "tq54sImtAfM7"
      },
      "source": [
        "interface = gr.Interface(fn=correct,\n",
        "                         inputs=app_inputs,\n",
        "                         outputs='text',\n",
        "                         title='testing Gramformer')"
      ],
      "execution_count": null,
      "outputs": []
    },
    {
      "cell_type": "code",
      "metadata": {
        "id": "pTfEcQccBkU8",
        "colab": {
          "base_uri": "https://localhost:8080/",
          "height": 643
        },
        "outputId": "de2e477d-eadc-4945-d828-427a6a29afcd"
      },
      "source": [
        "interface.launch()"
      ],
      "execution_count": null,
      "outputs": [
        {
          "output_type": "stream",
          "name": "stdout",
          "text": [
            "Colab notebook detected. To show errors in colab notebook, set `debug=True` in `launch()`\n",
            "This share link will expire in 24 hours. If you need a permanent link, visit: https://gradio.app/introducing-hosted (NEW!)\n",
            "Running on External URL: https://34480.gradio.app\n",
            "Interface loading below...\n"
          ]
        },
        {
          "output_type": "display_data",
          "data": {
            "text/html": [
              "\n",
              "        <iframe\n",
              "            width=\"900\"\n",
              "            height=\"500\"\n",
              "            src=\"https://34480.gradio.app\"\n",
              "            frameborder=\"0\"\n",
              "            allowfullscreen\n",
              "        ></iframe>\n",
              "        "
            ],
            "text/plain": [
              "<IPython.lib.display.IFrame at 0x7f0f60935150>"
            ]
          },
          "metadata": {}
        },
        {
          "output_type": "execute_result",
          "data": {
            "text/plain": [
              "(<Flask 'gradio.networking'>,\n",
              " 'http://127.0.0.1:7860/',\n",
              " 'https://34480.gradio.app')"
            ]
          },
          "metadata": {},
          "execution_count": 15
        }
      ]
    },
    {
      "cell_type": "code",
      "metadata": {
        "id": "_dZbxIeSTir_"
      },
      "source": [
        ""
      ],
      "execution_count": null,
      "outputs": []
    }
  ]
}